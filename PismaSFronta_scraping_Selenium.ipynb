{
  "nbformat": 4,
  "nbformat_minor": 0,
  "metadata": {
    "colab": {
      "name": "Untitled0.ipynb",
      "provenance": [],
      "authorship_tag": "ABX9TyOgQHFMoc3fXZnVgpkaVvK8"
    },
    "kernelspec": {
      "name": "python3",
      "display_name": "Python 3"
    }
  },
  "cells": [
    {
      "cell_type": "code",
      "metadata": {
        "id": "F3soemrBMfB8",
        "colab_type": "code",
        "colab": {}
      },
      "source": [
        "#импортируем все необходимые модули\n",
        "\n",
        "from selenium import webdriver\n",
        "import os\n",
        "import time"
      ],
      "execution_count": 0,
      "outputs": []
    },
    {
      "cell_type": "markdown",
      "metadata": {
        "id": "ud0mgeQEMkjM",
        "colab_type": "text"
      },
      "source": [
        "Код ниже скачивает все ссылки на страницы с письмами, фото и другими материалами на сайте https://www.pismasfronta.com/chitat-knigu-1. Всего 99 страниц, по 15 ссылок на каждой, кроме последней, где только 2.\n",
        "\n",
        "Решаемые проблемы\n",
        "\n",
        "Первая страница имеет уникальный url \"https://www.pismasfronta.com/chitat-knigu-1\", все последующие - с пагинацией \"https://www.pismasfronta.com/chitat-knigu-1/page/[1-98]\". Поэтому используются Два цикла - для первой страницы и для последующих.\n",
        "\n",
        "Расположение элемента с href таже представлено в двух вариантах. В зависимости от того, включает он только текст или текст + изображение применяется разный xpath: '//*[@id=\"comp-izy6gs0c_MediaLeftPage_TextPost__0_0_{i}0def_42\"]/a' и '//*[@id=\"comp-izy6gs0c_MediaLeftPage_PhotoPost__0_0_{i}0def_27\"]/a'\n",
        "\n",
        "Необходимые элементы подгружаются очень медлено, поэтому на каждой итерации применяется time.sleep.\n",
        "\n",
        "Однако код скачал 1457. Чтобы понять, есть ли ошибки, или на некоторых страницах < 15 ссылок - проводится обработка ошибок и они сохраняются в отдельный файл 'pisma_errors.txt'\n",
        "\n",
        "Ссылки на письма сохраняются в файл 'pisma_urs.txt'"
      ]
    },
    {
      "cell_type": "code",
      "metadata": {
        "id": "c23e0zpmMhUm",
        "colab_type": "code",
        "colab": {}
      },
      "source": [
        "urls = []\n",
        "exceptions = []\n",
        "kniga =\"https://www.pismasfronta.com/chitat-knigu-1/page/\"\n",
        "try:\n",
        "    driver = webdriver.Chrome(executable_path='C:\\Program Files (x86)\\Google\\Chrome\\Application\\chromedriver.exe')\n",
        "    for i in range(1,2):\n",
        "        url = kniga+str(i)\n",
        "        driver.get(url)\n",
        "        time.sleep(60)\n",
        "        for i in range(0,15):\n",
        "            try:\n",
        "                xpath = f'//*[@id=\"comp-izy6gs0c_MediaLeftPage_TextPost__0_0_{i}_0_def_42\"]/a'\n",
        "                res = driver.find_element_by_xpath(xpath)\n",
        "            except Exception:\n",
        "                exception = \"Error: \" + url + \" : \" + xpath\n",
        "                exceptions.append(exception)\n",
        "                try:\n",
        "                    xpath = f'//*[@id=\"comp-izy6gs0c_MediaLeftPage_PhotoPost__0_0_{i}_0_def_27\"]/a'\n",
        "                    res = driver.find_element_by_xpath(xpath)\n",
        "                except Exception:\n",
        "                    exception = \"Error2: \" + url + \" : \" + xpath\n",
        "                    exceptions.append(exception)\n",
        "                    continue\n",
        "            try:\n",
        "                url = res.get_attribute('href')\n",
        "            except Exception:\n",
        "                    print (\"Error3:\" + url + \" : \" + xpath)\n",
        "                    exceptions.append(exception)\n",
        "                    continue\n",
        "            urls.append(url)\n",
        "            time.sleep(3)\n",
        "\n",
        "    driver.get(\"https://www.pismasfronta.com/chitat-knigu-1\")\n",
        "    time.sleep(60)\n",
        "    for i in range(0,15):\n",
        "        res = driver.find_element_by_xpath(f'//*[@id=\"comp-izy6gs0c_MediaLeftPage_TextPost__0_0_{i}_0_def_42\"]/a')\n",
        "        url = res.get_attribute('href')\n",
        "        urls.append(url)\n",
        "        time.sleep(3)\n",
        "finally:\n",
        "    driver.quit()\n",
        "print(len(urls))\n",
        "print(len(exceptions))\n",
        "\n",
        "with open('pisma_errors.txt', 'a', encoding='utf-8') as file:\n",
        "    for err in exceptions:\n",
        "        file.write(\"%s\\n\" % err)\n",
        "\n",
        "with open('pisma_urs.txt', 'a', encoding='utf-8') as file:\n",
        "    for url in urls:\n",
        "        file.write(\"%s\\n\" % url)"
      ],
      "execution_count": 0,
      "outputs": []
    }
  ]
}