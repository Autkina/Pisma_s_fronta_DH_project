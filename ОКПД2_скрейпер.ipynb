{
  "nbformat": 4,
  "nbformat_minor": 0,
  "metadata": {
    "colab": {
      "name": "ОКПД2_скрейпер.ipynb",
      "provenance": [],
      "collapsed_sections": [],
      "authorship_tag": "ABX9TyMVPb2OtZ44W9nTG01/+qZF"
    },
    "kernelspec": {
      "name": "python3",
      "display_name": "Python 3"
    },
    "language_info": {
      "name": "python"
    }
  },
  "cells": [
    {
      "cell_type": "markdown",
      "metadata": {
        "id": "foDetAMGYsqc"
      },
      "source": [
        "**Задача:** соскрейпить актуальные коды ОКПД2\n",
        "\n",
        "**Источник:** http://base.garant.ru/70650730/"
      ]
    },
    {
      "cell_type": "code",
      "metadata": {
        "id": "TzbhhTd2YpoH"
      },
      "source": [
        "import requests\n",
        "from bs4 import BeautifulSoup as bs\n",
        "import pandas as pd"
      ],
      "execution_count": 1,
      "outputs": []
    },
    {
      "cell_type": "code",
      "metadata": {
        "colab": {
          "base_uri": "https://localhost:8080/"
        },
        "id": "Ji-kWaWcZKK0",
        "outputId": "418a4689-3ef2-4150-d04f-eddd2bb6b1b8"
      },
      "source": [
        "#собираем с первой страницы url-ы всех разделов\n",
        "\n",
        "responce = requests.get('http://base.garant.ru/70650730/')\n",
        "responce"
      ],
      "execution_count": 2,
      "outputs": [
        {
          "output_type": "execute_result",
          "data": {
            "text/plain": [
              "<Response [200]>"
            ]
          },
          "metadata": {
            "tags": []
          },
          "execution_count": 2
        }
      ]
    },
    {
      "cell_type": "code",
      "metadata": {
        "id": "mjm8iE_GZrfb"
      },
      "source": [
        "main_page = bs(responce.content, 'html.parser')\n",
        "links_list = []\n",
        "for link in main_page.find_all('li')[5:]:\n",
        "  links_list.append([link.a['href'], link.a.get_text()[7:8], link.a.get_text()[10:]])"
      ],
      "execution_count": 20,
      "outputs": []
    },
    {
      "cell_type": "code",
      "metadata": {
        "id": "cpZSJiEsbUn5"
      },
      "source": [
        "links_list = pd.DataFrame(links_list, columns=['href', 'section_id', 'section_name'])\n",
        "links_list"
      ],
      "execution_count": null,
      "outputs": []
    },
    {
      "cell_type": "code",
      "metadata": {
        "colab": {
          "base_uri": "https://localhost:8080/"
        },
        "id": "ayZssyuPI5Br",
        "outputId": "c1128273-7466-4e5c-ae68-060b237bf1f7"
      },
      "source": [
        "for i in links_list.iloc:\n",
        "  print(i.href)"
      ],
      "execution_count": 47,
      "outputs": [
        {
          "output_type": "stream",
          "text": [
            "/70650730/baf8d0298b9a3923e3794eecbe3d1996/\n",
            "/70650730/da0ca740e319b67eff630b4065586e13/\n",
            "/70650730/1a021ee51cf500830e99510141278135/\n",
            "/70650730/510567bc799b499f450a4638e59966a6/\n",
            "/70650730/b22e312de8e99833fd98f6f7cc7d3e5e/\n",
            "/70650730/0b4603a6b6af02d1f24e6247a9364e19/\n",
            "/70650730/c02ed83eeec4271d71b8a342b4cd7a76/\n",
            "/70650730/48d8530498621e8315b6e22c59e832d0/\n",
            "/70650730/95fa77a9ae133f491225ac6c30bb9ebf/\n",
            "/70650730/d866c9989c75bef029b67e7a33698205/\n",
            "/70650730/5403cdaba4adcc1fa9fb4eed9b040c90/\n",
            "/70650730/24f1ae75063482537b7ee5fc0af1565e/\n",
            "/70650730/1b55d7aed16d41d8f6f6bd1ff00b7bb6/\n",
            "/70650730/5feb00d2dd696fcf8716c5ce9eeff685/\n",
            "/70650730/f3e743be61d4cc15512dc20a85de5554/\n",
            "/70650730/230ad4519fc17821b0f9ac804f8ef470/\n",
            "/70650730/97c0401ae090631251b74514761b15d3/\n",
            "/70650730/0e220c6c3fc68ebcbb77ea335fb225be/\n",
            "/70650730/10adb5aef5b304a2b37f4b5bc9d3adda/\n",
            "/70650730/993c3a2906ab5bd456be72d3a536e841/\n",
            "/70650730/d6753ba117a828297c06db1c737e9f11/\n"
          ],
          "name": "stdout"
        }
      ]
    },
    {
      "cell_type": "code",
      "metadata": {
        "colab": {
          "base_uri": "https://localhost:8080/"
        },
        "id": "iDAFvQOZb4bh",
        "outputId": "23582b73-c886-40b3-9ff5-e1fc3a5716ea"
      },
      "source": [
        "link = links_list['href'][0]\n",
        "responce = requests.get(f'http://base.garant.ru{link}')\n",
        "responce"
      ],
      "execution_count": 27,
      "outputs": [
        {
          "output_type": "execute_result",
          "data": {
            "text/plain": [
              "<Response [200]>"
            ]
          },
          "metadata": {
            "tags": []
          },
          "execution_count": 27
        }
      ]
    },
    {
      "cell_type": "code",
      "metadata": {
        "id": "LiVOvp-bGBi5"
      },
      "source": [
        "section_page = bs(responce.content, 'html.parser')\n",
        "table  = section_page.find('table')\n",
        "tds = table.find_all('td')\n",
        "ids = []\n",
        "names = []\n",
        "for i in tds[::2]:\n",
        "  ids.append(i.p.get_text())\n",
        "for i in tds[1::2]:\n",
        "  names.append(i.p.get_text())\n"
      ],
      "execution_count": 40,
      "outputs": []
    },
    {
      "cell_type": "code",
      "metadata": {
        "colab": {
          "base_uri": "https://localhost:8080/"
        },
        "id": "SjxDK9BNIB1T",
        "outputId": "9f3a7123-f866-41a0-c5aa-06d289041c59"
      },
      "source": [
        "all_sections = []\n",
        "for section in links_list.iloc:\n",
        "  print(section.href)\n",
        "  responce = requests.get(f'http://base.garant.ru{section.href}')\n",
        "  print(responce)\n",
        "  section_page = bs(responce.content, 'html.parser')\n",
        "  table  = section_page.find('table')\n",
        "  tds = table.find_all('td')\n",
        "  ids = []\n",
        "  names = []\n",
        "  for i in tds[::2]:\n",
        "    ids.append(i.p.get_text())\n",
        "  for i in tds[1::2]:\n",
        "    names.append(i.p.get_text())\n",
        "  for j in range(len(ids)):\n",
        "    all_sections.append([section.section_id, section.section_name, ids[j], names[j]])"
      ],
      "execution_count": 61,
      "outputs": [
        {
          "output_type": "stream",
          "text": [
            "/70650730/baf8d0298b9a3923e3794eecbe3d1996/\n",
            "<Response [200]>\n",
            "/70650730/da0ca740e319b67eff630b4065586e13/\n",
            "<Response [200]>\n",
            "/70650730/1a021ee51cf500830e99510141278135/\n",
            "<Response [200]>\n",
            "/70650730/510567bc799b499f450a4638e59966a6/\n",
            "<Response [200]>\n",
            "/70650730/b22e312de8e99833fd98f6f7cc7d3e5e/\n",
            "<Response [200]>\n",
            "/70650730/0b4603a6b6af02d1f24e6247a9364e19/\n",
            "<Response [200]>\n",
            "/70650730/c02ed83eeec4271d71b8a342b4cd7a76/\n",
            "<Response [200]>\n",
            "/70650730/48d8530498621e8315b6e22c59e832d0/\n",
            "<Response [200]>\n",
            "/70650730/95fa77a9ae133f491225ac6c30bb9ebf/\n",
            "<Response [200]>\n",
            "/70650730/d866c9989c75bef029b67e7a33698205/\n",
            "<Response [200]>\n",
            "/70650730/5403cdaba4adcc1fa9fb4eed9b040c90/\n",
            "<Response [200]>\n",
            "/70650730/24f1ae75063482537b7ee5fc0af1565e/\n",
            "<Response [200]>\n",
            "/70650730/1b55d7aed16d41d8f6f6bd1ff00b7bb6/\n",
            "<Response [200]>\n",
            "/70650730/5feb00d2dd696fcf8716c5ce9eeff685/\n",
            "<Response [200]>\n",
            "/70650730/f3e743be61d4cc15512dc20a85de5554/\n",
            "<Response [200]>\n",
            "/70650730/230ad4519fc17821b0f9ac804f8ef470/\n",
            "<Response [200]>\n",
            "/70650730/97c0401ae090631251b74514761b15d3/\n",
            "<Response [200]>\n",
            "/70650730/0e220c6c3fc68ebcbb77ea335fb225be/\n",
            "<Response [200]>\n",
            "/70650730/10adb5aef5b304a2b37f4b5bc9d3adda/\n",
            "<Response [200]>\n",
            "/70650730/993c3a2906ab5bd456be72d3a536e841/\n",
            "<Response [200]>\n",
            "/70650730/d6753ba117a828297c06db1c737e9f11/\n",
            "<Response [200]>\n"
          ],
          "name": "stdout"
        }
      ]
    },
    {
      "cell_type": "code",
      "metadata": {
        "colab": {
          "base_uri": "https://localhost:8080/",
          "height": 419
        },
        "id": "mUthTOoWK0vE",
        "outputId": "5bee95f3-7974-4be1-b8c0-81aacb878bd3"
      },
      "source": [
        "all_sections = pd.DataFrame(all_sections, columns=['section_id', 'section_name', 'group_id', 'group_name'])\n",
        "all_sections"
      ],
      "execution_count": 62,
      "outputs": [
        {
          "output_type": "execute_result",
          "data": {
            "text/html": [
              "<div>\n",
              "<style scoped>\n",
              "    .dataframe tbody tr th:only-of-type {\n",
              "        vertical-align: middle;\n",
              "    }\n",
              "\n",
              "    .dataframe tbody tr th {\n",
              "        vertical-align: top;\n",
              "    }\n",
              "\n",
              "    .dataframe thead th {\n",
              "        text-align: right;\n",
              "    }\n",
              "</style>\n",
              "<table border=\"1\" class=\"dataframe\">\n",
              "  <thead>\n",
              "    <tr style=\"text-align: right;\">\n",
              "      <th></th>\n",
              "      <th>section_id</th>\n",
              "      <th>section_name</th>\n",
              "      <th>group_id</th>\n",
              "      <th>group_name</th>\n",
              "    </tr>\n",
              "  </thead>\n",
              "  <tbody>\n",
              "    <tr>\n",
              "      <th>0</th>\n",
              "      <td>A</td>\n",
              "      <td>Продукция сельского, лесного и рыбного хозяйства</td>\n",
              "      <td>01</td>\n",
              "      <td>Продукция и услуги сельского хозяйства и охоты</td>\n",
              "    </tr>\n",
              "    <tr>\n",
              "      <th>1</th>\n",
              "      <td>A</td>\n",
              "      <td>Продукция сельского, лесного и рыбного хозяйства</td>\n",
              "      <td>01.1</td>\n",
              "      <td>Культуры однолетние</td>\n",
              "    </tr>\n",
              "    <tr>\n",
              "      <th>2</th>\n",
              "      <td>A</td>\n",
              "      <td>Продукция сельского, лесного и рыбного хозяйства</td>\n",
              "      <td>01.11</td>\n",
              "      <td>Культуры зерновые (кроме риса), зернобобовые, ...</td>\n",
              "    </tr>\n",
              "    <tr>\n",
              "      <th>3</th>\n",
              "      <td>A</td>\n",
              "      <td>Продукция сельского, лесного и рыбного хозяйства</td>\n",
              "      <td>01.11.1</td>\n",
              "      <td>Пшеница</td>\n",
              "    </tr>\n",
              "    <tr>\n",
              "      <th>4</th>\n",
              "      <td>A</td>\n",
              "      <td>Продукция сельского, лесного и рыбного хозяйства</td>\n",
              "      <td>01.11.11</td>\n",
              "      <td>Пшеница твердая</td>\n",
              "    </tr>\n",
              "    <tr>\n",
              "      <th>...</th>\n",
              "      <td>...</td>\n",
              "      <td>...</td>\n",
              "      <td>...</td>\n",
              "      <td>...</td>\n",
              "    </tr>\n",
              "    <tr>\n",
              "      <th>4367</th>\n",
              "      <td>U</td>\n",
              "      <td>Услуги, предоставляемые экстерриториальными ор...</td>\n",
              "      <td>99.0</td>\n",
              "      <td>Услуги, предоставляемые экстерриториальными ор...</td>\n",
              "    </tr>\n",
              "    <tr>\n",
              "      <th>4368</th>\n",
              "      <td>U</td>\n",
              "      <td>Услуги, предоставляемые экстерриториальными ор...</td>\n",
              "      <td>99.00</td>\n",
              "      <td>Услуги, предоставляемые экстерриториальными ор...</td>\n",
              "    </tr>\n",
              "    <tr>\n",
              "      <th>4369</th>\n",
              "      <td>U</td>\n",
              "      <td>Услуги, предоставляемые экстерриториальными ор...</td>\n",
              "      <td>99.00.1</td>\n",
              "      <td>Услуги, предоставляемые экстерриториальными ор...</td>\n",
              "    </tr>\n",
              "    <tr>\n",
              "      <th>4370</th>\n",
              "      <td>U</td>\n",
              "      <td>Услуги, предоставляемые экстерриториальными ор...</td>\n",
              "      <td>99.00.10</td>\n",
              "      <td>Услуги, предоставляемые экстерриториальными ор...</td>\n",
              "    </tr>\n",
              "    <tr>\n",
              "      <th>4371</th>\n",
              "      <td>U</td>\n",
              "      <td>Услуги, предоставляемые экстерриториальными ор...</td>\n",
              "      <td>99.00.10.000</td>\n",
              "      <td>Услуги, предоставляемые экстерриториальными ор...</td>\n",
              "    </tr>\n",
              "  </tbody>\n",
              "</table>\n",
              "<p>4372 rows × 4 columns</p>\n",
              "</div>"
            ],
            "text/plain": [
              "     section_id  ...                                         group_name\n",
              "0             A  ...     Продукция и услуги сельского хозяйства и охоты\n",
              "1             A  ...                                Культуры однолетние\n",
              "2             A  ...  Культуры зерновые (кроме риса), зернобобовые, ...\n",
              "3             A  ...                                            Пшеница\n",
              "4             A  ...                                    Пшеница твердая\n",
              "...         ...  ...                                                ...\n",
              "4367          U  ...  Услуги, предоставляемые экстерриториальными ор...\n",
              "4368          U  ...  Услуги, предоставляемые экстерриториальными ор...\n",
              "4369          U  ...  Услуги, предоставляемые экстерриториальными ор...\n",
              "4370          U  ...  Услуги, предоставляемые экстерриториальными ор...\n",
              "4371          U  ...  Услуги, предоставляемые экстерриториальными ор...\n",
              "\n",
              "[4372 rows x 4 columns]"
            ]
          },
          "metadata": {
            "tags": []
          },
          "execution_count": 62
        }
      ]
    },
    {
      "cell_type": "code",
      "metadata": {
        "id": "A9NKTfBncJY9"
      },
      "source": [
        "all_sections.to_csv('OKPD2_table.csv')"
      ],
      "execution_count": 64,
      "outputs": []
    }
  ]
}